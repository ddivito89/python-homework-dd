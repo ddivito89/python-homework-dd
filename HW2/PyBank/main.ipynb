{
 "cells": [
  {
   "cell_type": "code",
   "execution_count": 20,
   "metadata": {},
   "outputs": [
    {
     "name": "stdout",
     "output_type": "stream",
     "text": [
      "Financial Analysis\n",
      "----------------------------\n",
      "Total Months: 86\n",
      "Total: $38382578\n",
      "Average  Change: $-2315.12\n",
      "Greatest Increase in Profits: Feb-2012 ($1926159)\n",
      "Greatest Decrease in Profits: Sep-2013 ($-2196167)\n"
     ]
    }
   ],
   "source": [
    "import csv\n",
    "from pathlib import Path\n",
    "\n",
    "total_months = 0\n",
    "total_pnl=0\n",
    "average_change_pnl=0\n",
    "max_increase=0\n",
    "max_increase_date=''\n",
    "max_decrease=0\n",
    "max_decrease_date=''\n",
    "last_pnl=0\n",
    "total_change=0\n",
    "\n",
    "\n",
    "csvpath = Path('budget_data.csv')\n",
    "\n",
    "csvreader = csv.reader(open(csvpath, 'r'), delimiter=\",\")\n",
    "header = next(csvreader)\n",
    "\n",
    "for row in csvreader:\n",
    "    total_months+=1\n",
    "    monthly_pnl=int(row[1])\n",
    "    month_end=str(row[0])\n",
    "    total_pnl+= monthly_pnl\n",
    "    \n",
    "    if total_months>1:\n",
    "        pnl_change =monthly_pnl-last_pnl\n",
    "        total_change+=pnl_change\n",
    "\n",
    "        if pnl_change > max_increase:\n",
    "            max_increase = pnl_change\n",
    "            max_increase_date = month_end\n",
    "        elif pnl_change < max_decrease:\n",
    "            max_decrease = pnl_change\n",
    "            max_decrease_date=month_end\n",
    "\n",
    "    last_pnl=monthly_pnl\n",
    "\n",
    "        \n",
    "\n",
    "average_change_pnl=round(total_change/(total_months-1),2)\n",
    "    \n",
    "\n",
    "\n",
    "print(f\"Financial Analysis\")\n",
    "print(f\"----------------------------\")\n",
    "print(f\"Total Months: {total_months}\")\n",
    "print(f\"Total: ${total_pnl}\")\n",
    "print(f\"Average  Change: ${average_change_pnl}\")\n",
    "print(f\"Greatest Increase in Profits: {max_increase_date} (${max_increase})\")\n",
    "print(f\"Greatest Decrease in Profits: {max_decrease_date} (${max_decrease})\")\n",
    "\n",
    "output_path = 'output.txt'\n",
    "with open(output_path, 'w') as file:\n",
    "    file.write(f\"Financial Analysis\\n\")\n",
    "    file.write(f\"----------------------------\\n\")\n",
    "    file.write(f\"Total Months: {total_months}\\n\")\n",
    "    file.write(f\"Total: ${total_pnl}\\n\")\n",
    "    file.write(f\"Average  Change: ${average_change_pnl}\\n\")\n",
    "    file.write(f\"Greatest Increase in Profits: {max_increase_date} (${max_increase})\\n\")\n",
    "    file.write(f\"Greatest Decrease in Profits: {max_decrease_date} (${max_decrease})\\n\")"
   ]
  },
  {
   "cell_type": "code",
   "execution_count": null,
   "metadata": {},
   "outputs": [],
   "source": []
  }
 ],
 "metadata": {
  "kernelspec": {
   "display_name": "Python 3",
   "language": "python",
   "name": "python3"
  },
  "language_info": {
   "codemirror_mode": {
    "name": "ipython",
    "version": 3
   },
   "file_extension": ".py",
   "mimetype": "text/x-python",
   "name": "python",
   "nbconvert_exporter": "python",
   "pygments_lexer": "ipython3",
   "version": "3.7.4"
  }
 },
 "nbformat": 4,
 "nbformat_minor": 4
}
